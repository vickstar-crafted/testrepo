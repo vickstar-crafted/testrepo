{
 "cells": [
  {
   "cell_type": "markdown",
   "id": "bf2d66b9-95bd-4bbf-9785-c37fc9857cfe",
   "metadata": {},
   "source": [
    "# Data Science Tools and Ecosystem"
   ]
  },
  {
   "cell_type": "markdown",
   "id": "437b6395-f87d-43aa-9ed2-f986f1354f5d",
   "metadata": {},
   "source": [
    "In this notebook, Data Science Tools and Ecosystem are summarized."
   ]
  },
  {
   "cell_type": "markdown",
   "id": "ba270034-426a-47fb-a1e1-6569ac47d42e",
   "metadata": {},
   "source": [
    "Some of the popular languages that Data Scientists use are:\n",
    "1. Python\n",
    "2. Java\n",
    "3. R"
   ]
  },
  {
   "cell_type": "markdown",
   "id": "5a93ea59",
   "metadata": {},
   "source": [
    "Data science heavily relies on various libraries to simplify tasks and enhance efficiency. Below is an ordered list of some popular data science libraries:\n",
    "\n",
    "1. NumPy\n",
    "2. Pandas\n",
    "3. Matplotlib\n",
    "4. Seaborn\n",
    "5. SciPy"
   ]
  },
  {
   "cell_type": "markdown",
   "id": "587ad8da-797f-4e61-ab2d-ba0e8eb5d178",
   "metadata": {},
   "source": [
    "| Data Science Tools       |\n",
    "|--------------------------|\n",
    "| Jupyter Notebook         |\n",
    "| RStudio                  |\n",
    "| Apache Zeppelin          |"
   ]
  },
  {
   "cell_type": "markdown",
   "id": "95e22bf3-49a6-48fd-9982-3f87bb6706e4",
   "metadata": {},
   "source": [
    "### Below are a few examples of evaluating arithmetic expressions in Python."
   ]
  },
  {
   "cell_type": "code",
   "execution_count": 5,
   "id": "943b4b58-09df-4ca7-ad11-5ed2bec0c91d",
   "metadata": {},
   "outputs": [
    {
     "data": {
      "text/plain": [
       "17"
      ]
     },
     "execution_count": 5,
     "metadata": {},
     "output_type": "execute_result"
    }
   ],
   "source": [
    "# This a simple arithmetic expression to mutiply then add integers\n",
    "(3*4)+5"
   ]
  },
  {
   "cell_type": "code",
   "execution_count": 6,
   "id": "1ed41213-bb75-4b62-baad-bd0eb0ca5838",
   "metadata": {},
   "outputs": [
    {
     "data": {
      "text/plain": [
       "3.3333333333333335"
      ]
     },
     "execution_count": 6,
     "metadata": {},
     "output_type": "execute_result"
    }
   ],
   "source": [
    "# This will convert 200 minutes to hours by dividing by 60\n",
    "hours = 200 / 60\n",
    "hours"
   ]
  },
  {
   "cell_type": "markdown",
   "id": "9753dcf9-d25e-49af-88a3-da2574e9323d",
   "metadata": {},
   "source": [
    "**Objectives:**\n",
    "\n",
    "- Using H1 style heading to give the title\n",
    "- Use of markdown cells\n",
    "- Using a code cell to multiply and add numbers\n",
    "- Using a code cell to convert minutes to hours\n",
    "- Use of markdown cells to list these objectives"
   ]
  },
  {
   "cell_type": "markdown",
   "id": "cbba686f-2bec-4d29-9c9d-ac1fb5482495",
   "metadata": {},
   "source": [
    "## Author\n",
    "Omomeji Victor"
   ]
  },
  {
   "cell_type": "code",
   "execution_count": null,
   "id": "bdbf38e7-3a36-4255-897f-90189b1b3640",
   "metadata": {},
   "outputs": [],
   "source": []
  }
 ],
 "metadata": {
  "kernelspec": {
   "display_name": "Python 3",
   "language": "python",
   "name": "python3"
  },
  "language_info": {
   "codemirror_mode": {
    "name": "ipython",
    "version": 3
   },
   "file_extension": ".py",
   "mimetype": "text/x-python",
   "name": "python",
   "nbconvert_exporter": "python",
   "pygments_lexer": "ipython3",
   "version": "3.9.6"
  }
 },
 "nbformat": 4,
 "nbformat_minor": 5
}
